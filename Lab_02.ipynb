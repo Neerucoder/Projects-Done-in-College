{
  "nbformat": 4,
  "nbformat_minor": 0,
  "metadata": {
    "colab": {
      "name": "Lab 02",
      "provenance": [],
      "collapsed_sections": [],
      "toc_visible": true
    },
    "kernelspec": {
      "name": "python3",
      "display_name": "Python 3"
    }
  },
  "cells": [
    {
      "cell_type": "markdown",
      "metadata": {
        "id": "XYCUEueee47L"
      },
      "source": [
        "# Building DNN and Calculating Gradients"
      ]
    },
    {
      "cell_type": "code",
      "metadata": {
        "id": "fe3IHw0aHq8O"
      },
      "source": [
        "import tensorflow as tf\n",
        "import numpy as np\n",
        "import matplotlib.pyplot as plt"
      ],
      "execution_count": null,
      "outputs": []
    },
    {
      "cell_type": "markdown",
      "metadata": {
        "id": "AxMAVS66x1px"
      },
      "source": [
        "Loading the Dataset"
      ]
    },
    {
      "cell_type": "code",
      "metadata": {
        "id": "lhOB8bGYIFVb"
      },
      "source": [
        "mnist = tf.keras.datasets.mnist\n",
        "\n",
        "(x_train, y_train), (x_test, y_test) = mnist.load_data()\n",
        "x_train, x_test = x_train / 255.0, x_test / 255.0"
      ],
      "execution_count": null,
      "outputs": []
    },
    {
      "cell_type": "markdown",
      "metadata": {
        "id": "8l1h_TK7tvFJ"
      },
      "source": [
        "Making the model with 300 layers and relu activation"
      ]
    },
    {
      "cell_type": "code",
      "metadata": {
        "id": "yK2lyaNFIJfk"
      },
      "source": [
        "model = tf.keras.models.Sequential([\n",
        "  tf.keras.layers.Flatten(input_shape=(28, 28)),\n",
        "  tf.keras.layers.Dense(300, activation='relu'),\n",
        "  tf.keras.layers.Dropout(0.2),\n",
        "  tf.keras.layers.Dense(10)\n",
        "])"
      ],
      "execution_count": null,
      "outputs": []
    },
    {
      "cell_type": "markdown",
      "metadata": {
        "id": "wN0BHLOCx48y"
      },
      "source": [
        "Finding the Model Summary"
      ]
    },
    {
      "cell_type": "code",
      "metadata": {
        "id": "JVQZUvkPIe2H",
        "colab": {
          "base_uri": "https://localhost:8080/"
        },
        "outputId": "8c9436db-59e2-4390-faaf-14552f7b3277"
      },
      "source": [
        "model.summary()"
      ],
      "execution_count": null,
      "outputs": [
        {
          "output_type": "stream",
          "text": [
            "Model: \"sequential\"\n",
            "_________________________________________________________________\n",
            "Layer (type)                 Output Shape              Param #   \n",
            "=================================================================\n",
            "flatten (Flatten)            (None, 784)               0         \n",
            "_________________________________________________________________\n",
            "dense (Dense)                (None, 300)               235500    \n",
            "_________________________________________________________________\n",
            "dropout (Dropout)            (None, 300)               0         \n",
            "_________________________________________________________________\n",
            "dense_1 (Dense)              (None, 10)                3010      \n",
            "=================================================================\n",
            "Total params: 238,510\n",
            "Trainable params: 238,510\n",
            "Non-trainable params: 0\n",
            "_________________________________________________________________\n"
          ],
          "name": "stdout"
        }
      ]
    },
    {
      "cell_type": "markdown",
      "metadata": {
        "id": "tGjGq_zux_PT"
      },
      "source": [
        "Defining the Loss Function"
      ]
    },
    {
      "cell_type": "code",
      "metadata": {
        "id": "t8_e86pKJLk0"
      },
      "source": [
        "loss_fn = tf.keras.losses.SparseCategoricalCrossentropy(from_logits=True)"
      ],
      "execution_count": null,
      "outputs": []
    },
    {
      "cell_type": "code",
      "metadata": {
        "id": "dw0i1pRhJn5A"
      },
      "source": [
        "model.compile(optimizer='adam',\n",
        "              loss=loss_fn,\n",
        "              metrics=['accuracy'])"
      ],
      "execution_count": null,
      "outputs": []
    },
    {
      "cell_type": "markdown",
      "metadata": {
        "id": "O1geEmkuyDv7"
      },
      "source": [
        "Training the model"
      ]
    },
    {
      "cell_type": "code",
      "metadata": {
        "id": "bFu8YN7FJr6v",
        "colab": {
          "base_uri": "https://localhost:8080/"
        },
        "outputId": "64e149da-65cb-46a2-c583-100cfd3cc8a8"
      },
      "source": [
        "model.fit(x_train, y_train, epochs=5)"
      ],
      "execution_count": null,
      "outputs": [
        {
          "output_type": "stream",
          "text": [
            "Epoch 1/5\n",
            "1875/1875 [==============================] - 5s 3ms/step - loss: 0.2402 - accuracy: 0.9297\n",
            "Epoch 2/5\n",
            "1875/1875 [==============================] - 5s 3ms/step - loss: 0.1112 - accuracy: 0.9657\n",
            "Epoch 3/5\n",
            "1875/1875 [==============================] - 6s 3ms/step - loss: 0.0762 - accuracy: 0.9767\n",
            "Epoch 4/5\n",
            "1875/1875 [==============================] - 6s 3ms/step - loss: 0.0610 - accuracy: 0.9807\n",
            "Epoch 5/5\n",
            "1875/1875 [==============================] - 5s 3ms/step - loss: 0.0490 - accuracy: 0.9841\n"
          ],
          "name": "stdout"
        },
        {
          "output_type": "execute_result",
          "data": {
            "text/plain": [
              "<tensorflow.python.keras.callbacks.History at 0x7f9b0393dfd0>"
            ]
          },
          "metadata": {
            "tags": []
          },
          "execution_count": 7
        }
      ]
    },
    {
      "cell_type": "code",
      "metadata": {
        "id": "wgdWr8UaJwR1",
        "colab": {
          "base_uri": "https://localhost:8080/"
        },
        "outputId": "d6cb1839-fbb4-4ae4-b30c-ed175cf1d11c"
      },
      "source": [
        "model.evaluate(x_test,  y_test, verbose=2)"
      ],
      "execution_count": null,
      "outputs": [
        {
          "output_type": "stream",
          "text": [
            "313/313 - 0s - loss: 0.0715 - accuracy: 0.9770\n"
          ],
          "name": "stdout"
        },
        {
          "output_type": "execute_result",
          "data": {
            "text/plain": [
              "[0.07147829979658127, 0.9769999980926514]"
            ]
          },
          "metadata": {
            "tags": []
          },
          "execution_count": 8
        }
      ]
    },
    {
      "cell_type": "markdown",
      "metadata": {
        "id": "GHlGbTn1t0x4"
      },
      "source": [
        "Recording the initial accuracy over clean images"
      ]
    },
    {
      "cell_type": "code",
      "metadata": {
        "id": "9DYTbOnSYDH2",
        "colab": {
          "base_uri": "https://localhost:8080/"
        },
        "outputId": "e205decb-b9cf-401a-96ab-0282152c1e71"
      },
      "source": [
        "accuracyofmodel = np.argmax(model.predict(x_test), axis=-1)\n",
        "accuracyrate = 0\n",
        "\n",
        "for i in range(len(accuracyofmodel)):\n",
        "  if accuracyofmodel[i] == y_test[i]:\n",
        "    accuracyrate = accuracyrate+1\n",
        "  else:\n",
        "    accuracyrate = accuracyrate+0\n",
        "accuracyrate = accuracyrate/10000\n",
        "print(accuracyrate)"
      ],
      "execution_count": null,
      "outputs": [
        {
          "output_type": "stream",
          "text": [
            "0.977\n"
          ],
          "name": "stdout"
        }
      ]
    },
    {
      "cell_type": "markdown",
      "metadata": {
        "id": "fW71pE2EyIsc"
      },
      "source": [
        "Building the initial signed gradient"
      ]
    },
    {
      "cell_type": "code",
      "metadata": {
        "id": "67wVdf5oPr5T"
      },
      "source": [
        "image_tensor = tf.convert_to_tensor(x_test,dtype=tf.float32)\n",
        "with tf.GradientTape() as tape:\n",
        "    tape.watch(image_tensor)\n",
        "    output = model(image_tensor)\n",
        "    loss = loss_fn(y_test, output)\n",
        "gradient = tape.gradient(loss, image_tensor)\n",
        "signed_grad = tf.sign(gradient)\n"
      ],
      "execution_count": null,
      "outputs": []
    },
    {
      "cell_type": "markdown",
      "metadata": {
        "id": "bkawrzFVfDIn"
      },
      "source": [
        "# Conducting Untargeted FGSM Attacks"
      ]
    },
    {
      "cell_type": "markdown",
      "metadata": {
        "id": "iSYHTPxEyNGw"
      },
      "source": [
        "Defining the attack:"
      ]
    },
    {
      "cell_type": "code",
      "metadata": {
        "id": "txhnePJZT7yO",
        "colab": {
          "base_uri": "https://localhost:8080/",
          "height": 1000
        },
        "outputId": "44a7d6ec-4bae-48c2-9836-ae8415fc6c1c"
      },
      "source": [
        "epsilon = [1,5,10,20,30,40,50]\n",
        "new_epsilon = [0,0,0,0,0,0,0]\n",
        "#Dividing each epsilon over 255\n",
        "for j in range(len(epsilon)):\n",
        "  new_epsilon[j] = epsilon[j]/255\n",
        "\n",
        "accuracyuntargeted = np.zeros(shape=(len(epsilon)))\n",
        "adversarial_array = x_test\n",
        "adversarial_arrayLabel = y_test\n",
        "for i in range(len(epsilon)):\n",
        "  accuracy = 0\n",
        "  print(new_epsilon[i])\n",
        "  for k in range(len(x_test)):\n",
        "    image = x_test[k]  \n",
        "    #Using formula from the slides to run untargeted attack\n",
        "    adversarial_array[k] = image + signed_grad[k]*new_epsilon[i]\n",
        "    adversarial_array[k] = tf.clip_by_value(adversarial_array[k], 0, 1)\n",
        "    adversarial_arrayLabel[k] = y_test[k]\n",
        "  #Finding the sucessrate of the attack over the model\n",
        "  model.evaluate(adversarial_array,  adversarial_arrayLabel, verbose=2)\n",
        "  #Building the prediction matrix\n",
        "  untargeted_predictions = np.argmax(model.predict(adversarial_array), axis=-1)\n",
        "  for l in range(len(y_test)):\n",
        "    if untargeted_predictions[l] == adversarial_arrayLabel[l]:\n",
        "      #Counting the number of correctly predicted images despite the attack\n",
        "      accuracy = accuracy+1\n",
        "    else:\n",
        "      accuracy = accuracy+0\n",
        "  testacc = accuracy/10000\n",
        "  #Calculating the success rate of the attack by finding the number of images correctly classified before the attack v/s after te attack\n",
        "  attackacc = 1 - testacc/accuracyrate\n",
        "  plt.imshow(adversarial_array[0])\n",
        "  plt.show()\n",
        "  accuracyuntargeted[i] = attackacc*100\n",
        "  print(\"epsilon,accuracy\",new_epsilon[i],attackacc)\n",
        "\n",
        "print(accuracyuntargeted)"
      ],
      "execution_count": null,
      "outputs": [
        {
          "output_type": "stream",
          "text": [
            "0.00392156862745098\n",
            "313/313 - 0s - loss: 0.0902 - accuracy: 0.9709\n"
          ],
          "name": "stdout"
        },
        {
          "output_type": "display_data",
          "data": {
            "image/png": "[encoded data removed]",
            "text/plain": [
              "<Figure size 432x288 with 1 Axes>"
            ]
          },
          "metadata": {
            "tags": [],
            "needs_background": "light"
          }
        },
        {
          "output_type": "stream",
          "text": [
            "epsilon,accuracy 0.00392156862745098 0.006243602865916076\n",
            "0.0196078431372549\n",
            "313/313 - 0s - loss: 0.2593 - accuracy: 0.9219\n"
          ],
          "name": "stdout"
        },
        {
          "output_type": "display_data",
          "data": {
            "image/png": "[encoded data removed]",
            "text/plain": [
              "<Figure size 432x288 with 1 Axes>"
            ]
          },
          "metadata": {
            "tags": [],
            "needs_background": "light"
          }
        },
        {
          "output_type": "stream",
          "text": [
            "epsilon,accuracy 0.0196078431372549 0.05639713408393032\n",
            "0.0392156862745098\n",
            "313/313 - 0s - loss: 1.4489 - accuracy: 0.5958\n"
          ],
          "name": "stdout"
        },
        {
          "output_type": "display_data",
          "data": {
            "image/png": "[encoded data removed]",
            "text/plain": [
              "<Figure size 432x288 with 1 Axes>"
            ]
          },
          "metadata": {
            "tags": [],
            "needs_background": "light"
          }
        },
        {
          "output_type": "stream",
          "text": [
            "epsilon,accuracy 0.0392156862745098 0.39017400204708286\n",
            "0.0784313725490196\n",
            "313/313 - 0s - loss: 6.6822 - accuracy: 0.0958\n"
          ],
          "name": "stdout"
        },
        {
          "output_type": "display_data",
          "data": {
            "image/png": "[encoded data removed]",
            "text/plain": [
              "<Figure size 432x288 with 1 Axes>"
            ]
          },
          "metadata": {
            "tags": [],
            "needs_background": "light"
          }
        },
        {
          "output_type": "stream",
          "text": [
            "epsilon,accuracy 0.0784313725490196 0.9019447287615149\n",
            "0.11764705882352941\n",
            "313/313 - 0s - loss: 14.7174 - accuracy: 0.0115\n"
          ],
          "name": "stdout"
        },
        {
          "output_type": "display_data",
          "data": {
            "image/png": "[encoded data removed]",
            "text/plain": [
              "<Figure size 432x288 with 1 Axes>"
            ]
          },
          "metadata": {
            "tags": [],
            "needs_background": "light"
          }
        },
        {
          "output_type": "stream",
          "text": [
            "epsilon,accuracy 0.11764705882352941 0.9882292732855681\n",
            "0.1568627450980392\n",
            "313/313 - 0s - loss: 26.6868 - accuracy: 7.0000e-04\n"
          ],
          "name": "stdout"
        },
        {
          "output_type": "display_data",
          "data": {
            "image/png": "[encoded data removed]",
            "text/plain": [
              "<Figure size 432x288 with 1 Axes>"
            ]
          },
          "metadata": {
            "tags": [],
            "needs_background": "light"
          }
        },
        {
          "output_type": "stream",
          "text": [
            "epsilon,accuracy 0.1568627450980392 0.9992835209825998\n",
            "0.19607843137254902\n",
            "313/313 - 0s - loss: 43.5855 - accuracy: 3.0000e-04\n"
          ],
          "name": "stdout"
        },
        {
          "output_type": "display_data",
          "data": {
            "image/png": "[encoded data removed]",
            "text/plain": [
              "<Figure size 432x288 with 1 Axes>"
            ]
          },
          "metadata": {
            "tags": [],
            "needs_background": "light"
          }
        },
        {
          "output_type": "stream",
          "text": [
            "epsilon,accuracy 0.19607843137254902 0.9996929375639714\n",
            "[ 0.62436029  5.63971341 39.0174002  90.19447288 98.82292733 99.9283521\n",
            " 99.96929376]\n"
          ],
          "name": "stdout"
        }
      ]
    },
    {
      "cell_type": "markdown",
      "metadata": {
        "id": "FPQ-NCdXfKM5"
      },
      "source": [
        "# Conducting Targeted FGSM attacks"
      ]
    },
    {
      "cell_type": "markdown",
      "metadata": {
        "id": "uIzLT5fuy1Sg"
      },
      "source": [
        "Redefining x_test to ensure only clean images are used"
      ]
    },
    {
      "cell_type": "code",
      "metadata": {
        "id": "Pn-OehcCvhvY"
      },
      "source": [
        "mnist = tf.keras.datasets.mnist\n",
        "\n",
        "(x_train, y_train), (x_test, y_test) = mnist.load_data()\n",
        "x_train, x_test = x_train / 255.0, x_test / 255.0"
      ],
      "execution_count": null,
      "outputs": []
    },
    {
      "cell_type": "markdown",
      "metadata": {
        "id": "hBdA5PRmy-Bg"
      },
      "source": [
        "Building the matrix for target classes"
      ]
    },
    {
      "cell_type": "code",
      "metadata": {
        "id": "_zbASMqDi0UI"
      },
      "source": [
        "targetclasses = np.zeros(shape=len(y_test))\n",
        "for i in range(len(y_test)):\n",
        "  targetclasses[i] = (y_test[i]+1)%10\n",
        " \n"
      ],
      "execution_count": null,
      "outputs": []
    },
    {
      "cell_type": "markdown",
      "metadata": {
        "id": "xmBsF1gBzCXL"
      },
      "source": [
        "Calculating the gradient with respect to target classes"
      ]
    },
    {
      "cell_type": "code",
      "metadata": {
        "id": "g2A7dsmEg6e1"
      },
      "source": [
        "image_tensor2 = tf.convert_to_tensor(x_test,dtype=tf.float32)\n",
        "with tf.GradientTape() as tape:\n",
        "    tape.watch(image_tensor2)\n",
        "    output2 = model(image_tensor2)\n",
        "    loss2 = loss_fn(targetclasses, output2)\n",
        "gradient2 = tape.gradient(loss2, image_tensor2)\n",
        "signed_grad2 = tf.sign(gradient2)"
      ],
      "execution_count": null,
      "outputs": []
    },
    {
      "cell_type": "markdown",
      "metadata": {
        "id": "c4fHVX8ht-ni"
      },
      "source": [
        "Running the targeted attack which is a modified version of the untargeted attack.\n",
        "\n",
        "**Disclaimer: Sometimes the labels may not appear as expected, correct labeling happens at the fourth epsilon(20/255) value. If this error occurs please restart and run notebook again twice or thrice**"
      ]
    },
    {
      "cell_type": "code",
      "metadata": {
        "id": "BJ6M0SVOevvI",
        "colab": {
          "base_uri": "https://localhost:8080/",
          "height": 1000
        },
        "outputId": "a66117ba-ee77-473c-dd4f-7b11ee5e0269"
      },
      "source": [
        "accuracytargeted = np.zeros(shape=(len(epsilon)))\n",
        "adversarial_arraytarget = x_test\n",
        "targetLabel = y_test\n",
        "for i in range(len(epsilon)):\n",
        "  accuracy = 0\n",
        "  print(new_epsilon[i])\n",
        "  for k in range(len(x_test)):\n",
        "    image = x_test[k]  \n",
        "    #Using formula from the slides to caonduct the targeted fgsm attack \n",
        "    adversarial_arraytarget[k] = image - signed_grad2[k]*new_epsilon[i]\n",
        "    adversarial_arraytarget[k] = tf.clip_by_value(adversarial_arraytarget[k], 0, 1)\n",
        "    targetLabel[k]=y_test[k]\n",
        "  model.evaluate(adversarial_arraytarget,  targetLabel, verbose=2)\n",
        "  targeted_predictions = np.argmax(model.predict(adversarial_arraytarget), axis=-1)\n",
        "  for l in range(len(y_test)):\n",
        "    if targeted_predictions[l] == targetLabel[l]:\n",
        "      accuracy = accuracy+1\n",
        "    else:\n",
        "      accuracy = accuracy+0\n",
        "  testacc = accuracy/10000\n",
        "  attackacc = 1 - testacc/accuracyrate\n",
        "  print(\"Prediction of Sample:\",targeted_predictions[0],\"Correct Label of Sample:\",targetLabel[0])\n",
        "  plt.imshow(adversarial_arraytarget[0])\n",
        "  plt.show()\n",
        "  accuracytargeted[i] = attackacc*100\n",
        "  print(\"epsilon,accuracy\",new_epsilon[i],attackacc)\n",
        "\n",
        "print(accuracytargeted)"
      ],
      "execution_count": null,
      "outputs": [
        {
          "output_type": "stream",
          "text": [
            "0.00392156862745098\n",
            "313/313 - 0s - loss: 0.0729 - accuracy: 0.9761\n",
            "Prediction of Sample: 7 Correct Label of Sample: 7\n"
          ],
          "name": "stdout"
        },
        {
          "output_type": "display_data",
          "data": {
            "image/png": "[encoded data removed]",
            "text/plain": [
              "<Figure size 432x288 with 1 Axes>"
            ]
          },
          "metadata": {
            "tags": [],
            "needs_background": "light"
          }
        },
        {
          "output_type": "stream",
          "text": [
            "epsilon,accuracy 0.00392156862745098 0.0009211873080859911\n",
            "0.0196078431372549\n",
            "313/313 - 0s - loss: 0.1107 - accuracy: 0.9627\n",
            "Prediction of Sample: 7 Correct Label of Sample: 7\n"
          ],
          "name": "stdout"
        },
        {
          "output_type": "display_data",
          "data": {
            "image/png": "[encoded data removed]",
            "text/plain": [
              "<Figure size 432x288 with 1 Axes>"
            ]
          },
          "metadata": {
            "tags": [],
            "needs_background": "light"
          }
        },
        {
          "output_type": "stream",
          "text": [
            "epsilon,accuracy 0.0196078431372549 0.01463664278403276\n",
            "0.0392156862745098\n",
            "313/313 - 0s - loss: 0.6824 - accuracy: 0.7712\n",
            "Prediction of Sample: 7 Correct Label of Sample: 7\n"
          ],
          "name": "stdout"
        },
        {
          "output_type": "display_data",
          "data": {
            "image/png": "[encoded data removed]",
            "text/plain": [
              "<Figure size 432x288 with 1 Axes>"
            ]
          },
          "metadata": {
            "tags": [],
            "needs_background": "light"
          }
        },
        {
          "output_type": "stream",
          "text": [
            "epsilon,accuracy 0.0392156862745098 0.21064483111566012\n",
            "0.0784313725490196\n",
            "313/313 - 0s - loss: 4.7944 - accuracy: 0.2081\n",
            "Prediction of Sample: 8 Correct Label of Sample: 7\n"
          ],
          "name": "stdout"
        },
        {
          "output_type": "display_data",
          "data": {
            "image/png": "[encoded data removed]",
            "text/plain": [
              "<Figure size 432x288 with 1 Axes>"
            ]
          },
          "metadata": {
            "tags": [],
            "needs_background": "light"
          }
        },
        {
          "output_type": "stream",
          "text": [
            "epsilon,accuracy 0.0784313725490196 0.7870010235414534\n",
            "0.11764705882352941\n",
            "313/313 - 0s - loss: 12.5534 - accuracy: 0.0098\n",
            "Prediction of Sample: 8 Correct Label of Sample: 7\n"
          ],
          "name": "stdout"
        },
        {
          "output_type": "display_data",
          "data": {
            "image/png": "[encoded data removed]",
            "text/plain": [
              "<Figure size 432x288 with 1 Axes>"
            ]
          },
          "metadata": {
            "tags": [],
            "needs_background": "light"
          }
        },
        {
          "output_type": "stream",
          "text": [
            "epsilon,accuracy 0.11764705882352941 0.9899692937563971\n",
            "0.1568627450980392\n",
            "313/313 - 0s - loss: 24.4505 - accuracy: 5.0000e-04\n",
            "Prediction of Sample: 8 Correct Label of Sample: 7\n"
          ],
          "name": "stdout"
        },
        {
          "output_type": "display_data",
          "data": {
            "image/png": "[encoded data removed]",
            "text/plain": [
              "<Figure size 432x288 with 1 Axes>"
            ]
          },
          "metadata": {
            "tags": [],
            "needs_background": "light"
          }
        },
        {
          "output_type": "stream",
          "text": [
            "epsilon,accuracy 0.1568627450980392 0.9994882292732856\n",
            "0.19607843137254902\n",
            "313/313 - 0s - loss: 41.2717 - accuracy: 3.0000e-04\n",
            "Prediction of Sample: 8 Correct Label of Sample: 7\n"
          ],
          "name": "stdout"
        },
        {
          "output_type": "display_data",
          "data": {
            "image/png": "[encoded data removed]",
            "text/plain": [
              "<Figure size 432x288 with 1 Axes>"
            ]
          },
          "metadata": {
            "tags": [],
            "needs_background": "light"
          }
        },
        {
          "output_type": "stream",
          "text": [
            "epsilon,accuracy 0.19607843137254902 0.9996929375639714\n",
            "[9.21187308e-02 1.46366428e+00 2.10644831e+01 7.87001024e+01\n",
            " 9.89969294e+01 9.99488229e+01 9.99692938e+01]\n"
          ],
          "name": "stdout"
        }
      ]
    },
    {
      "cell_type": "markdown",
      "metadata": {
        "id": "OZULamtTmbvk"
      },
      "source": [
        "Visualizing and Tabulating Accuracies of targeted and untargeted attacks over epsilon"
      ]
    },
    {
      "cell_type": "code",
      "metadata": {
        "id": "ihf5B7sEgiR6",
        "colab": {
          "base_uri": "https://localhost:8080/",
          "height": 295
        },
        "outputId": "c1b9b984-1b56-42f4-c4c0-f6e7c83548f0"
      },
      "source": [
        "plt.plot(new_epsilon, accuracyuntargeted, label = \"Untargeted FGSM\")\n",
        "plt.plot(new_epsilon, accuracytargeted, label = \"Targeted FGSM\")\n",
        "plt.xlabel('Epsilon')\n",
        "plt.ylabel('Accuracy')\n",
        "plt.title('Success Rate of Attacks over Epsilon ')\n",
        "plt.legend()\n",
        "plt.show() "
      ],
      "execution_count": null,
      "outputs": [
        {
          "output_type": "display_data",
          "data": {
            "image/png": "[encoded data removed]",
            "text/plain": [
              "<Figure size 432x288 with 1 Axes>"
            ]
          },
          "metadata": {
            "tags": [],
            "needs_background": "light"
          }
        }
      ]
    },
    {
      "cell_type": "code",
      "metadata": {
        "id": "jpCMfhbR0QnK",
        "colab": {
          "base_uri": "https://localhost:8080/"
        },
        "outputId": "5c688ede-bfd1-4f78-9f0e-4ef20485dee3"
      },
      "source": [
        "from astropy.table import QTable, Table, Column\n",
        "from astropy import units as u\n",
        "t = Table()\n",
        "t = Table([new_epsilon, accuracyuntargeted, accuracytargeted], names=('Epsilon', 'Untargeted FGSM', 'Targeted FGSM'))\n",
        "print(t)"
      ],
      "execution_count": null,
      "outputs": [
        {
          "output_type": "stream",
          "text": [
            "      Epsilon        Untargeted FGSM      Targeted FGSM   \n",
            "------------------- ------------------ -------------------\n",
            "0.00392156862745098 0.6243602865916076 0.09211873080859911\n",
            " 0.0196078431372549  5.639713408393032   1.463664278403276\n",
            " 0.0392156862745098  39.01740020470829  21.064483111566012\n",
            " 0.0784313725490196   90.1944728761515   78.70010235414534\n",
            "0.11764705882352941  98.82292732855682   98.99692937563971\n",
            " 0.1568627450980392  99.92835209825998   99.94882292732856\n",
            "0.19607843137254902  99.96929375639714   99.96929375639714\n"
          ],
          "name": "stdout"
        }
      ]
    },
    {
      "cell_type": "markdown",
      "metadata": {
        "id": "rHCdMN2fli8K"
      },
      "source": [
        "# Adversarial Retraining"
      ]
    },
    {
      "cell_type": "markdown",
      "metadata": {
        "id": "N7eqZYl7Au1G"
      },
      "source": [
        "Building the gradient for training data"
      ]
    },
    {
      "cell_type": "code",
      "metadata": {
        "id": "M8Fb0EBIucdY"
      },
      "source": [
        "image_tensor3 = tf.convert_to_tensor(x_train,dtype=tf.float32)\n",
        "with tf.GradientTape() as tape:\n",
        "    tape.watch(image_tensor3)\n",
        "    output3 = model(image_tensor3)\n",
        "    loss3 = loss_fn(y_train, output3)\n",
        "gradient3 = tape.gradient(loss3, image_tensor3)\n",
        "signed_grad3 = tf.sign(gradient3)"
      ],
      "execution_count": null,
      "outputs": []
    },
    {
      "cell_type": "markdown",
      "metadata": {
        "id": "KkbwY18pAz15"
      },
      "source": [
        "Conducting the untargeted attack on training data"
      ]
    },
    {
      "cell_type": "code",
      "metadata": {
        "id": "doRABypIliXo"
      },
      "source": [
        "accuracytargeted = np.zeros(shape=(len(epsilon)))\n",
        "adversarial_arraytargettrain = x_train\n",
        "adversarial_labels = y_train\n",
        "for k in range(len(x_train)):\n",
        "  image = x_train[k]  \n",
        "  adversarial_arraytargettrain[k] = image + signed_grad3[k]*0.0392156862745098  #10/255\n",
        "  adversarial_arraytargettrain[k] = tf.clip_by_value(adversarial_arraytargettrain[k], 0, 1)\n",
        "  adversarial_labels[k] = y_train[k]"
      ],
      "execution_count": null,
      "outputs": []
    },
    {
      "cell_type": "markdown",
      "metadata": {
        "id": "WXpTFfLHA6Dv"
      },
      "source": [
        "Reloading a clean dataset"
      ]
    },
    {
      "cell_type": "code",
      "metadata": {
        "id": "tG1VZaOUvnMp"
      },
      "source": [
        "mnist = tf.keras.datasets.mnist\n",
        "\n",
        "(x_train, y_train), (x_test, y_test) = mnist.load_data()\n",
        "x_train, x_test = x_train / 255.0, x_test / 255.0"
      ],
      "execution_count": null,
      "outputs": []
    },
    {
      "cell_type": "markdown",
      "metadata": {
        "id": "4j3AqMtcA9CQ"
      },
      "source": [
        "Appending the clean and perturbed datasets"
      ]
    },
    {
      "cell_type": "code",
      "metadata": {
        "id": "myCm9AqkvJ-D"
      },
      "source": [
        "x_train = np.append(x_train,adversarial_arraytargettrain,axis=0)\n",
        "y_train = np.append(y_train,adversarial_labels,axis=0)"
      ],
      "execution_count": null,
      "outputs": []
    },
    {
      "cell_type": "markdown",
      "metadata": {
        "id": "UOWI24N_lyN5"
      },
      "source": [
        "Building a new model and using the appended dataset to train"
      ]
    },
    {
      "cell_type": "code",
      "metadata": {
        "id": "jfkkyIUTGd3h"
      },
      "source": [
        "new_model = tf.keras.models.Sequential([\n",
        "  tf.keras.layers.Flatten(input_shape=(28, 28)),\n",
        "  tf.keras.layers.Dense(300, activation='relu'),\n",
        "  tf.keras.layers.Dropout(0.2),\n",
        "  tf.keras.layers.Dense(10)\n",
        "])"
      ],
      "execution_count": null,
      "outputs": []
    },
    {
      "cell_type": "code",
      "metadata": {
        "id": "3A-0zhxzGgJF",
        "colab": {
          "base_uri": "https://localhost:8080/"
        },
        "outputId": "089592b4-29d2-44f1-cf45-43af74f9c097"
      },
      "source": [
        "new_model.summary()"
      ],
      "execution_count": null,
      "outputs": [
        {
          "output_type": "stream",
          "text": [
            "Model: \"sequential_1\"\n",
            "_________________________________________________________________\n",
            "Layer (type)                 Output Shape              Param #   \n",
            "=================================================================\n",
            "flatten_1 (Flatten)          (None, 784)               0         \n",
            "_________________________________________________________________\n",
            "dense_2 (Dense)              (None, 300)               235500    \n",
            "_________________________________________________________________\n",
            "dropout_1 (Dropout)          (None, 300)               0         \n",
            "_________________________________________________________________\n",
            "dense_3 (Dense)              (None, 10)                3010      \n",
            "=================================================================\n",
            "Total params: 238,510\n",
            "Trainable params: 238,510\n",
            "Non-trainable params: 0\n",
            "_________________________________________________________________\n"
          ],
          "name": "stdout"
        }
      ]
    },
    {
      "cell_type": "code",
      "metadata": {
        "id": "ZVeRhKf5Godo"
      },
      "source": [
        "new_loss_fn = tf.keras.losses.SparseCategoricalCrossentropy(from_logits=True)"
      ],
      "execution_count": null,
      "outputs": []
    },
    {
      "cell_type": "code",
      "metadata": {
        "id": "V4up1yu5G4TO"
      },
      "source": [
        "new_model.compile(optimizer='adam',\n",
        "              loss=new_loss_fn,\n",
        "              metrics=['accuracy'])"
      ],
      "execution_count": null,
      "outputs": []
    },
    {
      "cell_type": "markdown",
      "metadata": {
        "id": "7k4lpPUdBAwZ"
      },
      "source": [
        "Retraining the model on the new training data"
      ]
    },
    {
      "cell_type": "code",
      "metadata": {
        "id": "dXiDRjbbvS5T",
        "colab": {
          "base_uri": "https://localhost:8080/"
        },
        "outputId": "f8d3095a-5b05-4d16-fbed-7b9e9b2c1718"
      },
      "source": [
        "new_model.fit(x_train, y_train,\n",
        "          batch_size=32,\n",
        "          epochs=10)"
      ],
      "execution_count": null,
      "outputs": [
        {
          "output_type": "stream",
          "text": [
            "Epoch 1/10\n",
            "3750/3750 [==============================] - 12s 3ms/step - loss: 0.1577 - accuracy: 0.9541\n",
            "Epoch 2/10\n",
            "3750/3750 [==============================] - 11s 3ms/step - loss: 0.0591 - accuracy: 0.9814\n",
            "Epoch 3/10\n",
            "3750/3750 [==============================] - 11s 3ms/step - loss: 0.0420 - accuracy: 0.9864\n",
            "Epoch 4/10\n",
            "3750/3750 [==============================] - 13s 4ms/step - loss: 0.0315 - accuracy: 0.9897\n",
            "Epoch 5/10\n",
            "3750/3750 [==============================] - 12s 3ms/step - loss: 0.0278 - accuracy: 0.9907\n",
            "Epoch 6/10\n",
            "3750/3750 [==============================] - 11s 3ms/step - loss: 0.0228 - accuracy: 0.9924\n",
            "Epoch 7/10\n",
            "3750/3750 [==============================] - 11s 3ms/step - loss: 0.0219 - accuracy: 0.9927\n",
            "Epoch 8/10\n",
            "3750/3750 [==============================] - 11s 3ms/step - loss: 0.0186 - accuracy: 0.9936\n",
            "Epoch 9/10\n",
            "3750/3750 [==============================] - 11s 3ms/step - loss: 0.0178 - accuracy: 0.9939\n",
            "Epoch 10/10\n",
            "3750/3750 [==============================] - 10s 3ms/step - loss: 0.0153 - accuracy: 0.9949\n"
          ],
          "name": "stdout"
        },
        {
          "output_type": "execute_result",
          "data": {
            "text/plain": [
              "<tensorflow.python.keras.callbacks.History at 0x7f9afd4f1780>"
            ]
          },
          "metadata": {
            "tags": []
          },
          "execution_count": 26
        }
      ]
    },
    {
      "cell_type": "markdown",
      "metadata": {
        "id": "FlARBoH2BFO2"
      },
      "source": [
        "Calculating the training accuracy on the clean test set"
      ]
    },
    {
      "cell_type": "code",
      "metadata": {
        "id": "eteolbN1vYWH",
        "colab": {
          "base_uri": "https://localhost:8080/"
        },
        "outputId": "1fd31398-3434-4972-d452-1907d5dcc6e6"
      },
      "source": [
        "print(\"Loss,Accuracy of clean images on the Modified DNN:\", new_model.evaluate(x=x_test, y=y_test, verbose=2))"
      ],
      "execution_count": null,
      "outputs": [
        {
          "output_type": "stream",
          "text": [
            "313/313 - 0s - loss: 0.0892 - accuracy: 0.9810\n",
            "Loss,Accuracy of clean images on the Modified DNN: [0.08923137187957764, 0.9810000061988831]\n"
          ],
          "name": "stdout"
        }
      ]
    },
    {
      "cell_type": "markdown",
      "metadata": {
        "id": "4HlGRgTpBLjw"
      },
      "source": [
        "Running the attack on the clean test set"
      ]
    },
    {
      "cell_type": "code",
      "metadata": {
        "id": "vV1diNokWhJU"
      },
      "source": [
        "image_tensor4 = tf.convert_to_tensor(x_test,dtype=tf.float32)\n",
        "with tf.GradientTape() as tape:\n",
        "    tape.watch(image_tensor4)\n",
        "    output4 = new_model(image_tensor4)\n",
        "    loss4 = new_loss_fn(y_test, output4)\n",
        "gradient4 = tape.gradient(loss4, image_tensor4)\n",
        "signed_grad4 = tf.sign(gradient4)"
      ],
      "execution_count": null,
      "outputs": []
    },
    {
      "cell_type": "code",
      "metadata": {
        "id": "IK5iKxLaWxt1"
      },
      "source": [
        "adversarial_arrayRetrain = x_test\n",
        "adversarial_retrainLabel = y_test\n",
        "for i in range(len(epsilon)):\n",
        "  for k in range(len(x_test)):\n",
        "    image = x_test[k]  \n",
        "    adversarial_arrayRetrain[k] = image + signed_grad4[k]*0.0392156862745098 #10/255\n",
        "    adversarial_arrayRetrain[k] = tf.clip_by_value(adversarial_arrayRetrain[k], 0, 1)\n",
        "    adversarial_retrainLabel[k] = y_test[k]\n"
      ],
      "execution_count": null,
      "outputs": []
    },
    {
      "cell_type": "markdown",
      "metadata": {
        "id": "tO5QJuW1BWm5"
      },
      "source": [
        "Calculating the accuracy on the attacked test set"
      ]
    },
    {
      "cell_type": "code",
      "metadata": {
        "id": "RFY5GRZHa-hI",
        "colab": {
          "base_uri": "https://localhost:8080/"
        },
        "outputId": "d56cbbdc-6feb-4f3e-ee09-4a7f2f987259"
      },
      "source": [
        "print(\"Loss,Accuracy of perturbed images on the Modified DNN:\", new_model.evaluate(x=adversarial_arrayRetrain, y=adversarial_retrainLabel, verbose=2))"
      ],
      "execution_count": null,
      "outputs": [
        {
          "output_type": "stream",
          "text": [
            "313/313 - 0s - loss: 227.2455 - accuracy: 2.0000e-04\n",
            "Loss,Accuracy of perturbed images on the Modified DNN: [227.2455291748047, 0.00019999999494757503]\n"
          ],
          "name": "stdout"
        }
      ]
    },
    {
      "cell_type": "markdown",
      "metadata": {
        "id": "AZk3_gZKdOlV"
      },
      "source": [
        "The adversarially retrained DNN is not robust against the attacks."
      ]
    },
    {
      "cell_type": "markdown",
      "metadata": {
        "id": "xeE4-SXJgCX9"
      },
      "source": [
        "# References"
      ]
    },
    {
      "cell_type": "markdown",
      "metadata": {
        "id": "PEDC6aRKgGzG"
      },
      "source": [
        "https://colab.research.google.com/github/tensorflow/docs/blob/master/site/en/tutorials/quickstart/beginner.ipynb#scrollTo=h3IKyzTCDNGo\n",
        "\n",
        "https://www.tensorflow.org/tutorials/generative/adversarial_fgsm\n",
        "\n",
        "https://colab.research.google.com/github/tensorflow/docs/blob/master/site/en/tutorials/generative/adversarial_fgsm.ipynb\n",
        "\n",
        "https://medium.com/analytics-vidhya/implementing-adversarial-attacks-and-defenses-in-keras-tensorflow-2-0-cab6120c5715\n",
        "\n",
        "https://github.com/soumyac1999/FGSM-Keras\n",
        "\n",
        "https://github.com/EvolvedSquid/tutorials/blob/master/adversarial-attacks-defenses/adversarial-tutorial.ipynb\n",
        "\n",
        "https://www.w3resource.com/graphics/matplotlib/basic/matplotlib-basic-exercise-5.php\n",
        "\n",
        "https://piazza.com/class/kelv94q140mpm?cid=110"
      ]
    }
  ]
}